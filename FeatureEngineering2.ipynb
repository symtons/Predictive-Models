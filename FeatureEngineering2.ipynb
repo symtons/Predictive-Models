{
  "nbformat": 4,
  "nbformat_minor": 0,
  "metadata": {
    "colab": {
      "provenance": []
    },
    "kernelspec": {
      "name": "python3",
      "display_name": "Python 3"
    },
    "language_info": {
      "name": "python"
    }
  },
  "cells": [
    {
      "cell_type": "code",
      "execution_count": 12,
      "metadata": {
        "id": "qhoL8NPRLDTa"
      },
      "outputs": [],
      "source": [
        "import pandas as pd\n",
        "import numpy as np\n",
        "\n",
        "#Credit data\n",
        "\n",
        "credit_data = pd.read_csv(\"credit_data.csv\")\n",
        "\n",
        "\n",
        "credit_data[\"balance_credit_ratio\"] = credit_data[\"Total_Account_Balance\"] / credit_data[\"Total_Credit_Limit\"]\n",
        "\n",
        "\n",
        "credit_data[\"late_payment_ratio\"] = credit_data[\"Late_Payments\"] / credit_data[\"Total_Payments\"]\n",
        "\n",
        "\n",
        "credit_data[\"recent_credit_opening_ratio\"] = credit_data[\"Accounts_Opened_Last_12_Months\"] / credit_data[\"Total_Accounts\"]\n",
        "\n",
        "\n",
        "credit_data[\"delinquency_rate\"] = credit_data[\"Accounts_30Plus_Days_Late\"] / credit_data[\"Total_Accounts\"]\n",
        "\n",
        "\n",
        "credit_data[\"debt_to_credit_ratio\"] = credit_data[\"Total_Account_Balance\"] / credit_data[\"Total_Credit_Limit\"]\n",
        "\n",
        "\n",
        "# Health Data Feature Engineering\n",
        "\n",
        "\n",
        "# Load health data\n",
        "health_data = pd.read_csv(\"health_data.csv\")\n",
        "\n",
        "health_data[\"BMI\"] = health_data[\"Weight_kg\"] / (health_data[\"Height_cm\"] ** 2)\n",
        "\n",
        "\n",
        "health_data[\"WHtR\"] = health_data[\"Waist_Circumference_cm\"] / health_data[\"Height_cm\"]\n",
        "\n",
        "\n",
        "health_data[\"WHR\"] = health_data[\"Waist_Circumference_cm\"] / health_data[\"Hip_Circumference_cm\"]\n",
        "\n",
        "\n",
        "health_data[\"FFMI\"] = (health_data[\"Weight_kg\"] * (1 - health_data[\"Body_Fat_Percentage\"])) / (health_data[\"Height_cm\"] ** 2)\n",
        "\n",
        "\n",
        "\n",
        "credit_data.to_csv(\"credit_data_features.csv\", index=False)\n",
        "health_data.to_csv(\"health_data_features.csv\", index=False)\n",
        "\n",
        "\n"
      ]
    }
  ]
}